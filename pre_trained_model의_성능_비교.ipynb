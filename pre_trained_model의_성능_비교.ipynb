{
  "nbformat": 4,
  "nbformat_minor": 0,
  "metadata": {
    "colab": {
      "name": "pre-trained model의 성능 비교.ipynb",
      "provenance": [],
      "collapsed_sections": [],
      "authorship_tag": "ABX9TyPl61zKcVNksKNsmCkJWVvU",
      "include_colab_link": true
    },
    "kernelspec": {
      "name": "python3",
      "display_name": "Python 3"
    },
    "language_info": {
      "name": "python"
    },
    "accelerator": "GPU",
    "widgets": {
      "application/vnd.jupyter.widget-state+json": {
        "1a47fd2caacf428980d9a25caf87b68e": {
          "model_module": "@jupyter-widgets/controls",
          "model_name": "HBoxModel",
          "state": {
            "_view_name": "HBoxView",
            "_dom_classes": [],
            "_model_name": "HBoxModel",
            "_view_module": "@jupyter-widgets/controls",
            "_model_module_version": "1.5.0",
            "_view_count": null,
            "_view_module_version": "1.5.0",
            "box_style": "",
            "layout": "IPY_MODEL_515d9c7df4a04fc19b7ad6a0d41a21c8",
            "_model_module": "@jupyter-widgets/controls",
            "children": [
              "IPY_MODEL_174f8c210b784935942f5a7ba83f0a32",
              "IPY_MODEL_37ce98421be849209f5d75bf1561a0f9"
            ]
          }
        },
        "515d9c7df4a04fc19b7ad6a0d41a21c8": {
          "model_module": "@jupyter-widgets/base",
          "model_name": "LayoutModel",
          "state": {
            "_view_name": "LayoutView",
            "grid_template_rows": null,
            "right": null,
            "justify_content": null,
            "_view_module": "@jupyter-widgets/base",
            "overflow": null,
            "_model_module_version": "1.2.0",
            "_view_count": null,
            "flex_flow": null,
            "width": null,
            "min_width": null,
            "border": null,
            "align_items": null,
            "bottom": null,
            "_model_module": "@jupyter-widgets/base",
            "top": null,
            "grid_column": null,
            "overflow_y": null,
            "overflow_x": null,
            "grid_auto_flow": null,
            "grid_area": null,
            "grid_template_columns": null,
            "flex": null,
            "_model_name": "LayoutModel",
            "justify_items": null,
            "grid_row": null,
            "max_height": null,
            "align_content": null,
            "visibility": null,
            "align_self": null,
            "height": null,
            "min_height": null,
            "padding": null,
            "grid_auto_rows": null,
            "grid_gap": null,
            "max_width": null,
            "order": null,
            "_view_module_version": "1.2.0",
            "grid_template_areas": null,
            "object_position": null,
            "object_fit": null,
            "grid_auto_columns": null,
            "margin": null,
            "display": null,
            "left": null
          }
        },
        "174f8c210b784935942f5a7ba83f0a32": {
          "model_module": "@jupyter-widgets/controls",
          "model_name": "FloatProgressModel",
          "state": {
            "_view_name": "ProgressView",
            "style": "IPY_MODEL_59b97b41bdbe4d5d90e37e66acb3675b",
            "_dom_classes": [],
            "description": "100%",
            "_model_name": "FloatProgressModel",
            "bar_style": "success",
            "max": 244418560,
            "_view_module": "@jupyter-widgets/controls",
            "_model_module_version": "1.5.0",
            "value": 244418560,
            "_view_count": null,
            "_view_module_version": "1.5.0",
            "orientation": "horizontal",
            "min": 0,
            "description_tooltip": null,
            "_model_module": "@jupyter-widgets/controls",
            "layout": "IPY_MODEL_bdd9b9b524d741b09837571a205f7afc"
          }
        },
        "37ce98421be849209f5d75bf1561a0f9": {
          "model_module": "@jupyter-widgets/controls",
          "model_name": "HTMLModel",
          "state": {
            "_view_name": "HTMLView",
            "style": "IPY_MODEL_d683c1301b314cebbb40d21b6e32db96",
            "_dom_classes": [],
            "description": "",
            "_model_name": "HTMLModel",
            "placeholder": "​",
            "_view_module": "@jupyter-widgets/controls",
            "_model_module_version": "1.5.0",
            "value": " 233M/233M [00:04&lt;00:00, 49.9MB/s]",
            "_view_count": null,
            "_view_module_version": "1.5.0",
            "description_tooltip": null,
            "_model_module": "@jupyter-widgets/controls",
            "layout": "IPY_MODEL_cebb1ff2e51d4bdb8b504b9456025ffb"
          }
        },
        "59b97b41bdbe4d5d90e37e66acb3675b": {
          "model_module": "@jupyter-widgets/controls",
          "model_name": "ProgressStyleModel",
          "state": {
            "_view_name": "StyleView",
            "_model_name": "ProgressStyleModel",
            "description_width": "initial",
            "_view_module": "@jupyter-widgets/base",
            "_model_module_version": "1.5.0",
            "_view_count": null,
            "_view_module_version": "1.2.0",
            "bar_color": null,
            "_model_module": "@jupyter-widgets/controls"
          }
        },
        "bdd9b9b524d741b09837571a205f7afc": {
          "model_module": "@jupyter-widgets/base",
          "model_name": "LayoutModel",
          "state": {
            "_view_name": "LayoutView",
            "grid_template_rows": null,
            "right": null,
            "justify_content": null,
            "_view_module": "@jupyter-widgets/base",
            "overflow": null,
            "_model_module_version": "1.2.0",
            "_view_count": null,
            "flex_flow": null,
            "width": null,
            "min_width": null,
            "border": null,
            "align_items": null,
            "bottom": null,
            "_model_module": "@jupyter-widgets/base",
            "top": null,
            "grid_column": null,
            "overflow_y": null,
            "overflow_x": null,
            "grid_auto_flow": null,
            "grid_area": null,
            "grid_template_columns": null,
            "flex": null,
            "_model_name": "LayoutModel",
            "justify_items": null,
            "grid_row": null,
            "max_height": null,
            "align_content": null,
            "visibility": null,
            "align_self": null,
            "height": null,
            "min_height": null,
            "padding": null,
            "grid_auto_rows": null,
            "grid_gap": null,
            "max_width": null,
            "order": null,
            "_view_module_version": "1.2.0",
            "grid_template_areas": null,
            "object_position": null,
            "object_fit": null,
            "grid_auto_columns": null,
            "margin": null,
            "display": null,
            "left": null
          }
        },
        "d683c1301b314cebbb40d21b6e32db96": {
          "model_module": "@jupyter-widgets/controls",
          "model_name": "DescriptionStyleModel",
          "state": {
            "_view_name": "StyleView",
            "_model_name": "DescriptionStyleModel",
            "description_width": "",
            "_view_module": "@jupyter-widgets/base",
            "_model_module_version": "1.5.0",
            "_view_count": null,
            "_view_module_version": "1.2.0",
            "_model_module": "@jupyter-widgets/controls"
          }
        },
        "cebb1ff2e51d4bdb8b504b9456025ffb": {
          "model_module": "@jupyter-widgets/base",
          "model_name": "LayoutModel",
          "state": {
            "_view_name": "LayoutView",
            "grid_template_rows": null,
            "right": null,
            "justify_content": null,
            "_view_module": "@jupyter-widgets/base",
            "overflow": null,
            "_model_module_version": "1.2.0",
            "_view_count": null,
            "flex_flow": null,
            "width": null,
            "min_width": null,
            "border": null,
            "align_items": null,
            "bottom": null,
            "_model_module": "@jupyter-widgets/base",
            "top": null,
            "grid_column": null,
            "overflow_y": null,
            "overflow_x": null,
            "grid_auto_flow": null,
            "grid_area": null,
            "grid_template_columns": null,
            "flex": null,
            "_model_name": "LayoutModel",
            "justify_items": null,
            "grid_row": null,
            "max_height": null,
            "align_content": null,
            "visibility": null,
            "align_self": null,
            "height": null,
            "min_height": null,
            "padding": null,
            "grid_auto_rows": null,
            "grid_gap": null,
            "max_width": null,
            "order": null,
            "_view_module_version": "1.2.0",
            "grid_template_areas": null,
            "object_position": null,
            "object_fit": null,
            "grid_auto_columns": null,
            "margin": null,
            "display": null,
            "left": null
          }
        }
      }
    }
  },
  "cells": [
    {
      "cell_type": "markdown",
      "metadata": {
        "id": "view-in-github",
        "colab_type": "text"
      },
      "source": [
        "<a href=\"https://colab.research.google.com/github/kwonbuyeon/2021-1_basicCarAI/blob/master/pre_trained_model%EC%9D%98_%EC%84%B1%EB%8A%A5_%EB%B9%84%EA%B5%90.ipynb\" target=\"_parent\"><img src=\"https://colab.research.google.com/assets/colab-badge.svg\" alt=\"Open In Colab\"/></a>"
      ]
    },
    {
      "cell_type": "markdown",
      "metadata": {
        "id": "MwCcJ64LYKoz"
      },
      "source": [
        "**pre-trained model의 성능 비교(top1_accrncy로 정확도 확인)**\n",
        "------\n",
        "20203030_권부연 "
      ]
    },
    {
      "cell_type": "markdown",
      "metadata": {
        "id": "Z-eF1oQQamRh"
      },
      "source": [
        "무작위로 선정된 10개의 폴더내의 데이터 를 비교하여 모델의 성능에 대한 결과를 출력하는 코드입니다."
      ]
    },
    {
      "cell_type": "markdown",
      "metadata": {
        "id": "gfBu7t2kYxhs"
      },
      "source": [
        "imageNet의 valiant set를 활용했으며 \n",
        "\n",
        "본 코드에서는 데이터 셋을 드라이브에 올린 후 /content/gdrive/MyDrive/dataset/val 위치에 데이터 폴더를 위치 시켰습니다\n"
      ]
    },
    {
      "cell_type": "code",
      "metadata": {
        "colab": {
          "base_uri": "https://localhost:8080/"
        },
        "id": "bWzFAWv7sB5n",
        "outputId": "15a98a76-b3da-446e-db52-f60a9cd815c1"
      },
      "source": [
        "from google.colab import drive\n",
        "\n",
        "drive.mount('/content/gdrive')"
      ],
      "execution_count": 5,
      "outputs": [
        {
          "output_type": "stream",
          "text": [
            "Mounted at /content/gdrive\n"
          ],
          "name": "stdout"
        }
      ]
    },
    {
      "cell_type": "markdown",
      "metadata": {
        "id": "NlRsGw3iZi9A"
      },
      "source": [
        "본 코드에서 사용하기 위한 imageNet의 카테고리를 가져옵니다. "
      ]
    },
    {
      "cell_type": "code",
      "metadata": {
        "colab": {
          "base_uri": "https://localhost:8080/"
        },
        "id": "L3DxJTfpvB-n",
        "outputId": "48777806-479f-4398-836a-fefee63b8ca4"
      },
      "source": [
        "!wget https://raw.githubusercontent.com/pytorch/hub/master/imagenet_classes.txt\n",
        "# Read the categories\n",
        "with open(\"imagenet_classes.txt\", \"r\") as f:\n",
        "    categories = [s.strip() for s in f.readlines()]"
      ],
      "execution_count": 2,
      "outputs": [
        {
          "output_type": "stream",
          "text": [
            "--2021-04-20 13:19:02--  https://raw.githubusercontent.com/pytorch/hub/master/imagenet_classes.txt\n",
            "Resolving raw.githubusercontent.com (raw.githubusercontent.com)... 185.199.108.133, 185.199.109.133, 185.199.110.133, ...\n",
            "Connecting to raw.githubusercontent.com (raw.githubusercontent.com)|185.199.108.133|:443... connected.\n",
            "HTTP request sent, awaiting response... 200 OK\n",
            "Length: 10472 (10K) [text/plain]\n",
            "Saving to: ‘imagenet_classes.txt’\n",
            "\n",
            "\rimagenet_classes.tx   0%[                    ]       0  --.-KB/s               \rimagenet_classes.tx 100%[===================>]  10.23K  --.-KB/s    in 0s      \n",
            "\n",
            "2021-04-20 13:19:02 (113 MB/s) - ‘imagenet_classes.txt’ saved [10472/10472]\n",
            "\n"
          ],
          "name": "stdout"
        }
      ]
    },
    {
      "cell_type": "markdown",
      "metadata": {
        "id": "IV1mdpEyZuZ6"
      },
      "source": [
        "아래 코드에서 사용할 pre-trained 모델을 torch에서 가져옵니다. 현재 코드는 AlexNet을 가져오게 설정되어 있으며 원하는 모델로 변경을 원하시면 아래 코드에서 모델명을 바꿔 주면됩니다."
      ]
    },
    {
      "cell_type": "code",
      "metadata": {
        "colab": {
          "base_uri": "https://localhost:8080/",
          "height": 629,
          "referenced_widgets": [
            "1a47fd2caacf428980d9a25caf87b68e",
            "515d9c7df4a04fc19b7ad6a0d41a21c8",
            "174f8c210b784935942f5a7ba83f0a32",
            "37ce98421be849209f5d75bf1561a0f9",
            "59b97b41bdbe4d5d90e37e66acb3675b",
            "bdd9b9b524d741b09837571a205f7afc",
            "d683c1301b314cebbb40d21b6e32db96",
            "cebb1ff2e51d4bdb8b504b9456025ffb"
          ]
        },
        "id": "klgHO9tDu85J",
        "outputId": "0bc267c4-a171-4944-9515-c0688e1405ea"
      },
      "source": [
        "from torchvision import models\n",
        "import torch\n",
        "\n",
        "model = torch.hub.load('pytorch/vision:v0.9.0', 'alexnet', pretrained=True)\n",
        "model.eval()"
      ],
      "execution_count": 3,
      "outputs": [
        {
          "output_type": "stream",
          "text": [
            "Downloading: \"https://github.com/pytorch/vision/archive/v0.9.0.zip\" to /root/.cache/torch/hub/v0.9.0.zip\n",
            "Downloading: \"https://download.pytorch.org/models/alexnet-owt-4df8aa71.pth\" to /root/.cache/torch/hub/checkpoints/alexnet-owt-4df8aa71.pth\n"
          ],
          "name": "stderr"
        },
        {
          "output_type": "display_data",
          "data": {
            "application/vnd.jupyter.widget-view+json": {
              "model_id": "1a47fd2caacf428980d9a25caf87b68e",
              "version_minor": 0,
              "version_major": 2
            },
            "text/plain": [
              "HBox(children=(FloatProgress(value=0.0, max=244418560.0), HTML(value='')))"
            ]
          },
          "metadata": {
            "tags": []
          }
        },
        {
          "output_type": "stream",
          "text": [
            "\n"
          ],
          "name": "stdout"
        },
        {
          "output_type": "execute_result",
          "data": {
            "text/plain": [
              "AlexNet(\n",
              "  (features): Sequential(\n",
              "    (0): Conv2d(3, 64, kernel_size=(11, 11), stride=(4, 4), padding=(2, 2))\n",
              "    (1): ReLU(inplace=True)\n",
              "    (2): MaxPool2d(kernel_size=3, stride=2, padding=0, dilation=1, ceil_mode=False)\n",
              "    (3): Conv2d(64, 192, kernel_size=(5, 5), stride=(1, 1), padding=(2, 2))\n",
              "    (4): ReLU(inplace=True)\n",
              "    (5): MaxPool2d(kernel_size=3, stride=2, padding=0, dilation=1, ceil_mode=False)\n",
              "    (6): Conv2d(192, 384, kernel_size=(3, 3), stride=(1, 1), padding=(1, 1))\n",
              "    (7): ReLU(inplace=True)\n",
              "    (8): Conv2d(384, 256, kernel_size=(3, 3), stride=(1, 1), padding=(1, 1))\n",
              "    (9): ReLU(inplace=True)\n",
              "    (10): Conv2d(256, 256, kernel_size=(3, 3), stride=(1, 1), padding=(1, 1))\n",
              "    (11): ReLU(inplace=True)\n",
              "    (12): MaxPool2d(kernel_size=3, stride=2, padding=0, dilation=1, ceil_mode=False)\n",
              "  )\n",
              "  (avgpool): AdaptiveAvgPool2d(output_size=(6, 6))\n",
              "  (classifier): Sequential(\n",
              "    (0): Dropout(p=0.5, inplace=False)\n",
              "    (1): Linear(in_features=9216, out_features=4096, bias=True)\n",
              "    (2): ReLU(inplace=True)\n",
              "    (3): Dropout(p=0.5, inplace=False)\n",
              "    (4): Linear(in_features=4096, out_features=4096, bias=True)\n",
              "    (5): ReLU(inplace=True)\n",
              "    (6): Linear(in_features=4096, out_features=1000, bias=True)\n",
              "  )\n",
              ")"
            ]
          },
          "metadata": {
            "tags": []
          },
          "execution_count": 3
        }
      ]
    },
    {
      "cell_type": "markdown",
      "metadata": {
        "id": "pSanPfHFaiJR"
      },
      "source": [
        "폴더 리스트를 만드는 부분입니다. 폴더 리스트는 10개의 폴더를 선택할 때와 선택된 데이터의 라벨을 구분할때 사용됩니다."
      ]
    },
    {
      "cell_type": "code",
      "metadata": {
        "id": "W4x8MICkxQK1"
      },
      "source": [
        "from PIL import Image\n",
        "import os\n",
        "import glob\n",
        "\n",
        "folder = os.listdir('/content/gdrive/MyDrive/dataset/val')\n",
        "folder.sort()\n",
        "folderLen = len(folder)"
      ],
      "execution_count": 6,
      "outputs": []
    },
    {
      "cell_type": "markdown",
      "metadata": {
        "id": "LylY7ajhbEZH"
      },
      "source": [
        "input할 이미지를 변형하는 부분입니다."
      ]
    },
    {
      "cell_type": "code",
      "metadata": {
        "id": "fLLXGZi3xs9R"
      },
      "source": [
        "from torchvision import transforms\n",
        "\n",
        "preprocess = transforms.Compose([\n",
        "    transforms.Resize(256),\n",
        "    transforms.CenterCrop(224),\n",
        "    transforms.ToTensor(),\n",
        "    transforms.Normalize(mean=[0.5], std=[0.5]),\n",
        "])\n"
      ],
      "execution_count": 7,
      "outputs": []
    },
    {
      "cell_type": "markdown",
      "metadata": {
        "id": "KGbWOKziaJoC"
      },
      "source": [
        "본 코드는 무작위로 선정된 10개의 폴더내의 데이터 셋을 비교합니다. \n",
        "\n",
        "아래는 무작위로 10개의 폴더를 선택하는 코드입니다."
      ]
    },
    {
      "cell_type": "code",
      "metadata": {
        "colab": {
          "base_uri": "https://localhost:8080/"
        },
        "id": "cEmU7UUXviA2",
        "outputId": "3f0966ec-02b2-4b30-bf06-4748c23596ce"
      },
      "source": [
        "import random\n",
        "test = random.sample(folder,10)\n",
        "print(test)\n",
        "\n",
        "import copy\n",
        "\n",
        "f=copy.deepcopy(folder)\n",
        "f.sort()\n",
        "labeling = {f[i]:categories[i] for i in range(len(f))}"
      ],
      "execution_count": 8,
      "outputs": [
        {
          "output_type": "stream",
          "text": [
            "['n01494475', 'n03874599', 'n03657121', 'n01739381', 'n02028035', 'n02051845', 'n07717410', 'n02486410', 'n01685808', 'n02437312']\n"
          ],
          "name": "stdout"
        }
      ]
    },
    {
      "cell_type": "markdown",
      "metadata": {
        "id": "3WIEAP-CbT3X"
      },
      "source": [
        "데이터를 탐색하여 모델의 판단 결과를 구해 정확도를 확인하는 부분입니다.\n"
      ]
    },
    {
      "cell_type": "code",
      "metadata": {
        "colab": {
          "base_uri": "https://localhost:8080/"
        },
        "id": "EHJGu31Lwar_",
        "outputId": "d749ca45-813b-411b-c6f3-274e7cd425ec"
      },
      "source": [
        "from PIL import Image\n",
        "import os\n",
        "import glob\n",
        "\n",
        "\n",
        "totalRight =0\n",
        "for folderNum in range(10):\n",
        "    total=0\n",
        "    right =0\n",
        "    for filePath in glob.glob('/content/gdrive/MyDrive/dataset/val/'+test[folderNum]+'/*.JPEG'):\n",
        "        file =Image.open(filePath)\n",
        "        input_tensor = preprocess(file)\n",
        "        input_batch = input_tensor.unsqueeze(0) # create a mini-batch as expected by the model\n",
        "\n",
        "        if torch.cuda.is_available():\n",
        "            input_batch = input_batch.to('cuda')\n",
        "            model.to('cuda')\n",
        "\n",
        "        with torch.no_grad():\n",
        "            try: \n",
        "                output = model(input_batch)\n",
        "            except: \n",
        "                print(\"pass\")\n",
        "                continue\n",
        "\n",
        "        probabilities = torch.nn.functional.softmax(output[0], dim=0)\n",
        "\n",
        "        total+= 1\n",
        "\n",
        "        top1_prob, top1_catid = torch.topk(probabilities, 1)\n",
        "        if categories[top1_catid[0]] == labeling[test[folderNum]]:\n",
        "            right += 1\n",
        "            \n",
        "\n",
        "    print(\"\\n current Accuracy :\" , 100 * right / total)\n",
        "    print(\"continue :\", (folderNum+1)*100/10)\n",
        "    totalRight += (100 * right / total)\n",
        "    print(\"total accuracy :\",totalRight/(folderNum+1))\n",
        "    "
      ],
      "execution_count": 11,
      "outputs": [
        {
          "output_type": "stream",
          "text": [
            "pass\n",
            "\n",
            " current Accuracy : 59.183673469387756\n",
            "continue : 10.0\n",
            "total accuracy : 59.183673469387756\n",
            "\n",
            " current Accuracy : 16.0\n",
            "continue : 20.0\n",
            "total accuracy : 37.59183673469388\n",
            "pass\n",
            "pass\n",
            "pass\n",
            "\n",
            " current Accuracy : 21.27659574468085\n",
            "continue : 30.0\n",
            "total accuracy : 32.1534230713562\n",
            "\n",
            " current Accuracy : 34.0\n",
            "continue : 40.0\n",
            "total accuracy : 32.61506730351715\n",
            "\n",
            " current Accuracy : 78.0\n",
            "continue : 50.0\n",
            "total accuracy : 41.69205384281372\n",
            "\n",
            " current Accuracy : 40.0\n",
            "continue : 60.0\n",
            "total accuracy : 41.410044869011436\n",
            "\n",
            " current Accuracy : 24.0\n",
            "continue : 70.0\n",
            "total accuracy : 38.9228956020098\n",
            "\n",
            " current Accuracy : 54.0\n",
            "continue : 80.0\n",
            "total accuracy : 40.807533651758575\n",
            "\n",
            " current Accuracy : 52.0\n",
            "continue : 90.0\n",
            "total accuracy : 42.0511410237854\n",
            "\n",
            " current Accuracy : 58.0\n",
            "continue : 100.0\n",
            "total accuracy : 43.64602692140686\n"
          ],
          "name": "stdout"
        }
      ]
    },
    {
      "cell_type": "markdown",
      "metadata": {
        "id": "DB1L9aaoccJW"
      },
      "source": [
        "current Accuracy 현재 폴더 내의 데이터 셋의 정확도\n",
        "\n",
        "continue 진행도\n",
        "\n",
        "total accuracy : 현재까지 나온 정확도의 평균"
      ]
    }
  ]
}